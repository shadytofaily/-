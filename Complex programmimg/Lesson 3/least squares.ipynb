{
 "cells": [
  {
   "cell_type": "markdown",
   "metadata": {},
   "source": [
    "# Linear (ordinary) least squares"
   ]
  },
  {
   "cell_type": "markdown",
   "metadata": {},
   "source": [
    "Suppose we have a set of points $\\left\\{ (x_i, y_i), i = 1, \\ldots, n \\right\\}$ and a functional form $f(x, \\vec \\beta)$, where $\\vec \\beta$ is a vector of parameters."
   ]
  },
  {
   "cell_type": "markdown",
   "metadata": {},
   "source": [
    "Then, *least squares approximation* is a problem of finding $\\vec \\beta$ by minimising function\n",
    "$$ \\xi (\\vec \\beta) = \\sum\\limits_{i = 1}^n \\left| y_i - f(x_i, \\vec \\beta) \\right|^2 $$"
   ]
  },
  {
   "cell_type": "markdown",
   "metadata": {},
   "source": [
    "Least squares approximation becomes *linear (or ordinary)* when we assume that $f(x, \\vec \\beta)$ is a linear function of $\\vec \\beta$: \n",
    "$$f(x, \\vec \\beta) = \\sum \\limits_{j = 1}^m \\beta_j \\varphi_j (x),$$\n",
    "where $\\varphi_j (x)$ are called basis functions which do not need to be linear ($x^k$, $e^{i \\alpha_k x}$ etc.)."
   ]
  },
  {
   "cell_type": "markdown",
   "metadata": {},
   "source": [
    "We minimize with respect to $\\vec \\beta$\n",
    "$$ \\xi (\\vec \\beta) = \\sum\\limits_{i = 1}^n \\left| y_i - \\left( \\beta_1 \\varphi_1(x) + \\ldots + \\beta_m \\varphi_m(x) \\right) \\right|^2 .$$\n",
    "It can be represented as \n",
    "$$\\xi (\\vec \\beta) = || \\vec y - A \\vec \\beta ||^2,$$\n",
    "if we suppose that a vector norm $||\\vec a|| = \\sqrt{\\sum\\limits_{i = 1}^n |a_i|^2}$ and *the design matrix*\n",
    "$$ A = \\begin{pmatrix} \n",
    "            \\varphi_1(x_1) & \\varphi_2(x_1) & \\ldots & \\varphi_m(x_1) \\\\\n",
    "            \\varphi_1(x_2) & \\varphi_2(x_2) & \\ldots & \\varphi_m(x_2) \\\\\n",
    "            \\vdots & \\vdots & \\ddots & \\vdots \\\\\n",
    "            \\varphi_1(x_n) & \\varphi_2(x_n) & \\ldots & \\varphi_m(x_n) \\\\\n",
    "        \\end{pmatrix}.$$"
   ]
  },
  {
   "cell_type": "markdown",
   "metadata": {},
   "source": [
    "To minimize $\\xi (\\vec \\beta)$ we set \n",
    "$$\\cfrac{\\partial}{\\partial \\beta_k} \\xi (\\vec \\beta) = 0, \\; k = 1, \\ldots, m, $$\n",
    "and obtain *the normal equation*\n",
    "$$A^T A \\vec \\beta = A^T \\vec y.$$"
   ]
  },
  {
   "cell_type": "markdown",
   "metadata": {},
   "source": [
    "If $A$ is poorly conditioned, then solving this matrix equation becomes a big problem. In this case QR decomposition of $A$ is often used. The design matrix can be represented as \n",
    "$$A = Q \\cdot R,$$\n",
    "where $Q$ is orthoginal ($Q^T Q = 1$), and $R$ is upper triangular."
   ]
  },
  {
   "cell_type": "markdown",
   "metadata": {},
   "source": [
    "Since $m < n$ last $n-m$ rows of $R$ are zero:\n",
    "$$A = Q \\cdot \\begin{pmatrix} \n",
    "                    R_1 \\\\\n",
    "                    0 \\\\\n",
    "                \\end{pmatrix}.$$\n",
    "Recall tht matrix $Q$ is a rotation operator, and introduced norm of a vector is invariant to rotation. Then, we rotate the residual $\\vec y - A \\vec \\beta$:\n",
    "$$\\xi (\\vec \\beta) = || \\vec y - A \\vec \\beta ||^2 = || Q^T \\left( \\vec y - A \\vec \\beta \\right) ||^2 = || Q^T \\vec y - \\begin{pmatrix} \n",
    "    R_1 \\\\\n",
    "    0 \\\\\n",
    "\\end{pmatrix} \\vec \\beta ||^2. $$"
   ]
  },
  {
   "cell_type": "markdown",
   "metadata": {},
   "source": [
    "Let us write \n",
    "$$Q^T \\vec y = \\begin{pmatrix} \n",
    "                    \\vec f \\\\\n",
    "                    \\vec r \\\\\n",
    "                \\end{pmatrix},$$\n",
    "where $\\mbox{dim} \\vec f = m$.\n",
    "\n",
    "This way,\n",
    "$$\\xi ( \\vec \\beta ) = ||\\vec f - R_1 \\vec \\beta||^2 + ||\\vec r||^2 \\rightarrow \\min \\Leftrightarrow R_1 \\vec \\beta = \\vec f.$$\n",
    "\n",
    "The last equation is solved by back substitution."
   ]
  },
  {
   "cell_type": "markdown",
   "metadata": {},
   "source": [
    "## Task"
   ]
  },
  {
   "cell_type": "markdown",
   "metadata": {},
   "source": [
    "Let the basis function be $x^k, \\; k = 0, \\ldots, m$. Write function that finds $\\vec \\beta$ for $m = 1, 2, 3$."
   ]
  },
  {
   "cell_type": "code",
   "execution_count": 2,
   "metadata": {},
   "outputs": [],
   "source": [
    "def minor(arr,i,j):\n",
    "    # ith row, jth column removed\n",
    "    return arr[np.array(list(range(i))+list(range(i+1,arr.shape[0])))[:,np.newaxis],\n",
    "               np.array(list(range(j))+list(range(j+1,arr.shape[1])))]\n",
    "\n",
    "def hh(vec,p):\n",
    "    vec = np.asarray(vec, dtype=float)\n",
    "    if vec.ndim != 1:\n",
    "        raise ValueError(\"vec.ndim = %s, expected 1\" % vec.ndim)\n",
    "    x = vec\n",
    "    n = len(x)\n",
    "    y = np.array(x, copy=True, dtype=float)\n",
    "    y[p] = np.linalg.norm(x)\n",
    "    for k in range(p+1,n):\n",
    "        y[k] = 0\n",
    "    d = x - y\n",
    "    u = d / np.linalg.norm(d)\n",
    "    h = np.eye(n)\n",
    "    for i in range(n):\n",
    "        for j in range(n):\n",
    "            h[i, j] = h[i, j] - 2 * u[i] * u[j]\n",
    "    outvec = y\n",
    "    H = h\n",
    "    return outvec, H\n",
    "\n",
    "def qr_decomp(a):\n",
    "    a1 = np.array(a, copy=True, dtype=float)\n",
    "    m, n = a1.shape\n",
    "    data_a =[]\n",
    "    data_h = []\n",
    "    data_H = []\n",
    "    H = np.eye(m)\n",
    "    for i in range(n-1):\n",
    "        x = a1[:,0]\n",
    "        y,h = hh(a1[:,0],0)\n",
    "        a1 = h@a1\n",
    "        data_a.append(a1)\n",
    "        data_h.append(h)\n",
    "        a1 =minor(a1,0,0)\n",
    "    x = a1[:,0]\n",
    "    y,h = hh(a1[:,0],0)\n",
    "    a1 = h@a1\n",
    "    data_a.append(a1)\n",
    "    data_h.append(h)\n",
    "    #print(*data_a)\n",
    "\n",
    "    r = data_a[0]\n",
    "    for i in range(1,len(data_a)):\n",
    "        am, an = data_a[i].shape\n",
    "        for k in range(m-am,m):\n",
    "            for j in range(n-an,n):\n",
    "                r[k,j] = data_a[i][k-i,j-i]\n",
    "\n",
    "    for i in range(0,len(data_h)):\n",
    "        hm, hn = data_h[i].shape\n",
    "        h = np.eye(m)\n",
    "        for k in range(m-hm,m):\n",
    "            for j in range(m-hm,m):\n",
    "                h[k,j] = data_h[i][k-i,j-i]\n",
    "        data_H.append(h)\n",
    "        H = H@h\n",
    "\n",
    "    q = H\n",
    "    return q, r\n"
   ]
  },
  {
   "cell_type": "code",
   "execution_count": 3,
   "metadata": {
    "scrolled": true
   },
   "outputs": [],
   "source": [
    "from sklearn import datasets\n",
    "import matplotlib.pyplot as plt\n",
    "import numpy as np\n",
    "from scipy.linalg import qr\n"
   ]
  },
  {
   "cell_type": "code",
   "execution_count": 4,
   "metadata": {},
   "outputs": [],
   "source": [
    "def linear_least_squares(m, xdata, ydata):\n",
    "    \n",
    "    diabetes = datasets.load_iris()\n",
    "    X = diabetes.data\n",
    "    y = diabetes.target\n",
    "\n",
    "    ydata = X[:100,-1]\n",
    "    xdata = X[:100,0]\n",
    "    #np.set_printoptions(suppress=True)\n",
    "\n",
    "    mat= np.empty((100,m))\n",
    "    A= np.zeros_like(mat)\n",
    "    for i in range(m):\n",
    "        A[:,i] = xdata**i\n",
    "    q, r = qr_decomp(A)\n",
    "    r1= np.empty((m,m))\n",
    "    \n",
    "    for i in range(m):\n",
    "        r1[i] = r[i]\n",
    "\n",
    "    q1= np.empty((100,m))\n",
    "    for i in range(m):\n",
    "        q1[:,i] = q[:,i]\n",
    "\n",
    "    result =q.T@ydata\n",
    "    f = result[:m]\n",
    "    rinv = np.linalg.inv(r1) \n",
    "    beta = rinv@f\n",
    "    beta\n",
    "    \n",
    "    return beta"
   ]
  },
  {
   "cell_type": "markdown",
   "metadata": {},
   "source": [
    "Now implement your function to approximate real data."
   ]
  },
  {
   "cell_type": "code",
   "execution_count": 5,
   "metadata": {},
   "outputs": [
    {
     "data": {
      "image/png": "[encoded data removed]",
      "text/plain": [
       "<Figure size 432x288 with 1 Axes>"
      ]
     },
     "metadata": {
      "needs_background": "light"
     },
     "output_type": "display_data"
    }
   ],
   "source": [
    "from sklearn import datasets\n",
    "import matplotlib.pyplot as plt\n",
    "\n",
    "diabetes = datasets.load_iris()\n",
    "X = diabetes.data\n",
    "y = diabetes.target\n",
    "\n",
    "ydata = X[:100,-1]\n",
    "xdata = X[:100,0]\n",
    "\n",
    "plt.plot(xdata, ydata, 'o', label='Original data', markersize=10)\n",
    "plt.grid(True)\n",
    "plt.legend()\n",
    "#plt.plot(x,y3)\n",
    "plt.show()"
   ]
  },
  {
   "cell_type": "markdown",
   "metadata": {},
   "source": [
    "Plot the resulting functions."
   ]
  },
  {
   "cell_type": "code",
   "execution_count": 30,
   "metadata": {},
   "outputs": [
    {
     "data": {
      "image/png": "[encoded data removed]",
      "text/plain": [
       "<Figure size 432x288 with 1 Axes>"
      ]
     },
     "metadata": {
      "needs_background": "light"
     },
     "output_type": "display_data"
    }
   ],
   "source": [
    "x = np.linspace(4.2,7)\n",
    "\n",
    "def fun(x,b):\n",
    "    n = len(b)\n",
    "    res = 0\n",
    "    for i in range(n):\n",
    "        res += b[i]*(x**i)\n",
    "    return res\n",
    "        \n",
    "plt.plot(xdata, ydata, 'o', label='Original data', markersize=10)\n",
    "plt.grid(True)\n",
    "plt.legend()\n",
    "\n",
    "for i in range(1,5):\n",
    "    plt.plot(x, fun(x,linear_least_squares(i,xdata,ydata)))\n",
    "plt.show()"
   ]
  },
  {
   "cell_type": "markdown",
   "metadata": {},
   "source": [
    "Output the comma-separated list of coefficients before $x$. You will need this for Google Form."
   ]
  },
  {
   "cell_type": "code",
   "execution_count": 9,
   "metadata": {},
   "outputs": [
    {
     "name": "stdout",
     "output_type": "stream",
     "text": [
      "0.695419455966875,1.7384067440848385\n"
     ]
    }
   ],
   "source": [
    "coefs = []\n",
    "# assuming that beta[1] is always a coefficient before x\n",
    "#if m =1, then beta[1] does not exist,beacuse len(beta)= 1, not 2 ==> therefore the cycle of m in range(2,4)\n",
    "for m in range(2, 4):\n",
    "    coefs.append(str(linear_least_squares(m, xdata, ydata)[1]))\n",
    "    \n",
    "print(\",\".join(coefs))"
   ]
  },
  {
   "cell_type": "markdown",
   "metadata": {},
   "source": [
    "Output the comma-separated list of average quadratic deviations. You will need this for Google Form.\n",
    "\n",
    "*Reminder*: Average quadratic deviation = $\\cfrac{1}{n} \\sum\\limits_{i = 1}^{n} \\left| y_i - f(x_i, \\vec \\beta) \\right|^2 $, where $n$ is the number of observations."
   ]
  },
  {
   "cell_type": "code",
   "execution_count": 22,
   "metadata": {},
   "outputs": [],
   "source": [
    "def av_quad(m):\n",
    "    sum = 0\n",
    "    for i in range(100):\n",
    "        fct  = fun(xdata[i],linear_least_squares(m,xdata,ydata))\n",
    "        delta = abs(ydata[i] - fct)\n",
    "        sum += delta \n",
    "    sum /= 100\n",
    "    return sum"
   ]
  },
  {
   "cell_type": "code",
   "execution_count": 28,
   "metadata": {},
   "outputs": [
    {
     "name": "stdout",
     "output_type": "stream",
     "text": [
      "0.54,0.283938738013879,0.2817246796800114\n"
     ]
    }
   ],
   "source": [
    "aqds = []\n",
    "\n",
    "for m in range(1, 4):\n",
    "    cur_aqd = av_quad(m)\n",
    "    \n",
    "    aqds.append(str(cur_aqd))\n",
    "    \n",
    "print(\",\".join(aqds))"
   ]
  }
 ],
 "metadata": {
  "kernelspec": {
   "display_name": "Python 3",
   "language": "python",
   "name": "python3"
  },
  "language_info": {
   "codemirror_mode": {
    "name": "ipython",
    "version": 3
   },
   "file_extension": ".py",
   "mimetype": "text/x-python",
   "name": "python",
   "nbconvert_exporter": "python",
   "pygments_lexer": "ipython3",
   "version": "3.7.4"
  }
 },
 "nbformat": 4,
 "nbformat_minor": 2
}
