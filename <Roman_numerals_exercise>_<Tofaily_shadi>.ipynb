{
 "cells": [
  {
   "cell_type": "markdown",
   "metadata": {},
   "source": [
    "# Roman numerals"
   ]
  },
  {
   "cell_type": "markdown",
   "metadata": {},
   "source": [
    "## I. Roman numerals to decimals\n",
    "\n",
    "Write a function which receives a Roman numeral written out as a string, and returns an integer representing the decimal form of the input number. "
   ]
  },
  {
   "cell_type": "code",
   "execution_count": 1,
   "metadata": {},
   "outputs": [],
   "source": [
    "mapping = {\"I\" : 1, \n",
    "           \"V\" : 5,\n",
    "           \"X\" : 10,\n",
    "           \"L\" : 50,\n",
    "           \"C\" : 100,\n",
    "           \"D\" : 500,\n",
    "           \"M\" : 1000}"
   ]
  },
  {
   "cell_type": "code",
   "execution_count": 7,
   "metadata": {},
   "outputs": [],
   "source": [
    "def roman_to_decimal(rom):\n",
    "    \"\"\"Convert a Roman numeral to decimal.\n",
    "    \n",
    "    Parameters\n",
    "    ----------\n",
    "    rom : str\n",
    "        A Roman numeral representing a positive integer.\n",
    "        \n",
    "    Returns\n",
    "    -------\n",
    "    dec : int\n",
    "        The result of conversion of `rom` into a decimal system.\n",
    "    \"\"\"\n",
    "    listofrom = [i for i in rom]\n",
    "    dec = 0\n",
    "    k = 0\n",
    "    while k < len(listofrom):\n",
    "        if k + 1 == len(listofrom):\n",
    "            dec += mapping.get(listofrom[-1])\n",
    "            return dec\n",
    "        if mapping.get(listofrom[k]) < mapping.get(listofrom[k + 1]):\n",
    "            dec += mapping.get(listofrom[k + 1]) - mapping.get(listofrom[k])\n",
    "            k += 2\n",
    "            continue\n",
    "        dec += mapping.get(listofrom[k])\n",
    "        k += 1\n",
    "    return dec"
   ]
  },
  {
   "cell_type": "markdown",
   "metadata": {},
   "source": [
    "Here are some tests for you to test your code. Your code must pass all of them. You also need to come up with several more tests (your choice)."
   ]
  },
  {
   "cell_type": "code",
   "execution_count": 8,
   "metadata": {},
   "outputs": [
    {
     "name": "stdout",
     "output_type": "stream",
     "text": [
      "True\n",
      "True\n",
      "True\n",
      "True\n",
      "True\n"
     ]
    }
   ],
   "source": [
    "test_pairs = [(\"IX\", 9), (\"XI\", 11), (\"MCCII\", 1202), (\"MMXVIII\", 2018), (\"XLIX\", 49)]\n",
    "\n",
    "for rom, dec in test_pairs:\n",
    "    converted = roman_to_decimal(rom)\n",
    "    print(converted == dec)"
   ]
  },
  {
   "cell_type": "markdown",
   "metadata": {},
   "source": [
    "Now you can run tests in file `tests_roman_to_decimal.txt`. You need to insert a number of false results and listed false results in respective fields in Google Form for this lesson."
   ]
  },
  {
   "cell_type": "code",
   "execution_count": 9,
   "metadata": {},
   "outputs": [
    {
     "name": "stdout",
     "output_type": "stream",
     "text": [
      "MCCXLVIII 1246 expected:  1248\n",
      "MCCLXX 1273 expected:  1270\n",
      "MDCCX 1708 expected:  1710\n",
      "LXXXIV 81 expected:  84\n",
      "DCCXCVII 799 expected:  797\n",
      "CDXXIX 430 expected:  429\n",
      "MDCCXCI 1790 expected:  1791\n",
      "OrderedDict([(81, 'LXXXIV'), (430, 'CDXXIX'), (799, 'DCCXCVII'), (1246, 'MCCXLVIII'), (1273, 'MCCLXX'), (1708, 'MDCCX'), (1790, 'MDCCXCI')])\n",
      "LXXXIV\n",
      "CDXXIX\n",
      "DCCXCVII\n",
      "MCCXLVIII\n",
      "MCCLXX\n",
      "MDCCX\n",
      "MDCCXCI\n"
     ]
    }
   ],
   "source": [
    "import collections\n",
    "p_roman = \"tests_roman_to_decimal.txt\"\n",
    "with open(p_roman, \"rb\") as fp_roman:\n",
    "    lines_roman=fp_roman.readlines()\n",
    "\n",
    "test_data_roman = [line.strip().decode(\"ascii\").split(',') for line in lines_roman]\n",
    "test_data_roman = [(line[0], int(line[1])) for line in test_data_roman]\n",
    "dict_of_false_results = dict()\n",
    "for rom, dec in test_data_roman:\n",
    "    if roman_to_decimal(rom) != dec:\n",
    "        dict_of_false_results[dec] = rom\n",
    "        print(rom, dec, \"expected: \", roman_to_decimal(rom))\n",
    "od = collections.OrderedDict(sorted(dict_of_false_results.items()))\n",
    "print(od)\n",
    "for i in od.values():\n",
    "    print(i)"
   ]
  },
  {
   "cell_type": "markdown",
   "metadata": {},
   "source": [
    "## II. Decimal numbers to roman numerals.\n",
    "\n",
    "The maximum grade for first task (Roman to decimal) is 7 on the 10-point HSE scale. For extra credit, complete the second task: *given a decimal number, convert it to the Roman form*."
   ]
  },
  {
   "cell_type": "code",
   "execution_count": 10,
   "metadata": {},
   "outputs": [],
   "source": [
    "def decimal_to_roman(dec):\n",
    "    \"\"\"Convert a decimal to the Roman form.\n",
    "    \n",
    "    Parameters\n",
    "    ----------\n",
    "    dec : int\n",
    "        A positive integer number\n",
    "    \n",
    "    Returns\n",
    "    -------\n",
    "    rom : str\n",
    "        A string representation of a Roman numeral form of `dec`.\n",
    "    \"\"\"\n",
    "    mapping = {1: \"I\",\n",
    "               5: \"V\",\n",
    "               10: \"X\",\n",
    "               50: \"L\",\n",
    "               100: \"C\",\n",
    "               500: \"D\",\n",
    "               1000: \" M\"}\n",
    "    listofdec = [i for i in str(dec)]\n",
    "    sizeofdec = len(listofdec)\n",
    "    res = list()\n",
    "    i = 0\n",
    "    while sizeofdec > i:\n",
    "        digit = listofdec[sizeofdec - i - 1]\n",
    "        if 3 < int(digit) <= 8:\n",
    "            if int(digit) > 5:\n",
    "                prefix = (abs(5 - int(digit))) * mapping.get(int(\"1\" + \"0\" * i))\n",
    "                rom = mapping.get(int(5 * int(\"1\" + \"0\" * i))) + prefix\n",
    "                res.insert(0, rom)\n",
    "            if int(digit) <= 5:\n",
    "                prefix = (5 - int(digit)) * mapping.get(int(\"1\" + \"0\" * i))\n",
    "                rom = prefix + mapping.get(int(5 * int(\"1\" + \"0\" * i)))\n",
    "                res.insert(0, rom)\n",
    "        elif 8 < int(digit) < 10:\n",
    "            prefix = (10 - int(digit)) * mapping.get(int(\"1\" + \"0\" * i))\n",
    "            rom = prefix + mapping.get(int(10 * int(\"1\" + \"0\" * i)))\n",
    "            res.insert(0, rom)\n",
    "        else:\n",
    "            rom = int(digit) * mapping.get(int(\"1\" + \"0\" * i))\n",
    "            res.insert(0, rom)\n",
    "        i += 1\n",
    "    rom = ''.join(res).replace(\" \", \"\")       \n",
    "    return rom\n"
   ]
  },
  {
   "cell_type": "markdown",
   "metadata": {},
   "source": [
    "You need to come up with test cases to show that your conversion works as expected. \n",
    "NB: the conversion is ambiguous in some cases. Any valid conversion is accepted. "
   ]
  },
  {
   "cell_type": "markdown",
   "metadata": {},
   "source": [
    "Now you can run tests in file `tests_decimal_to_roman.txt`. You need to insert a number of false results and listed false results in respective fields in Google Form for this lesson."
   ]
  },
  {
   "cell_type": "code",
   "execution_count": 11,
   "metadata": {},
   "outputs": [
    {
     "name": "stdout",
     "output_type": "stream",
     "text": [
      "1246 MCCXLVIII expected:  MCCXLVI\n",
      "1273 MCCLXX expected:  MCCLXXIII\n",
      "1708 MDCCX expected:  MDCCVIII\n",
      "81 LXXXIV expected:  LXXXI\n",
      "799 DCCXCVII expected:  DCCXCIX\n",
      "430 CDXXIX expected:  CDXXX\n",
      "1790 MDCCXCI expected:  MDCCXC\n",
      "OrderedDict([(81, 'LXXXI'), (430, 'CDXXX'), (799, 'DCCXCIX'), (1246, 'MCCXLVI'), (1273, 'MCCLXXIII'), (1708, 'MDCCVIII'), (1790, 'MDCCXC')])\n",
      "LXXXI\n",
      "CDXXX\n",
      "DCCXCIX\n",
      "MCCXLVI\n",
      "MCCLXXIII\n",
      "MDCCVIII\n",
      "MDCCXC\n"
     ]
    }
   ],
   "source": [
    "p_decimal = \"tests_decimal_to_roman.txt\"\n",
    "with open(p_decimal, \"rb\") as fp_decimal:\n",
    "    lines_decimal=fp_decimal.readlines()\n",
    "\n",
    "test_data_decimal = [line.strip().decode(\"ascii\").split(',') for line in lines_decimal]\n",
    "test_data_decimal = [(line[0], int(line[1])) for line in test_data_decimal]\n",
    "\n",
    "for rom, dec in test_data_roman:\n",
    "    if decimal_to_roman(dec) != rom:\n",
    "        dict_of_false_results[dec] = decimal_to_roman(dec)\n",
    "        print(dec, rom, \"expected: \", decimal_to_roman(dec))\n",
    "od = collections.OrderedDict(sorted(dict_of_false_results.items()))\n",
    "print(od)\n",
    "for i in od.values():\n",
    "    print(i)"
   ]
  },
  {
   "cell_type": "code",
   "execution_count": null,
   "metadata": {},
   "outputs": [],
   "source": []
  }
 ],
 "metadata": {
  "kernelspec": {
   "display_name": "Python 3",
   "language": "python",
   "name": "python3"
  },
  "language_info": {
   "codemirror_mode": {
    "name": "ipython",
    "version": 3
   },
   "file_extension": ".py",
   "mimetype": "text/x-python",
   "name": "python",
   "nbconvert_exporter": "python",
   "pygments_lexer": "ipython3",
   "version": "3.7.3"
  }
 },
 "nbformat": 4,
 "nbformat_minor": 2
}
